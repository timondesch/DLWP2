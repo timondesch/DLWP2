{
 "cells": [
  {
   "cell_type": "code",
   "execution_count": 1,
   "id": "028672b0",
   "metadata": {},
   "outputs": [
    {
     "name": "stdout",
     "output_type": "stream",
     "text": [
      "2.7.0\n"
     ]
    }
   ],
   "source": [
    "import numpy as np\n",
    "import matplotlib.pyplot as plt\n",
    "import tensorflow as tf\n",
    "from tensorflow import keras\n",
    "from tensorflow.keras.datasets import reuters\n",
    "\n",
    "print(tf.__version__)"
   ]
  },
  {
   "cell_type": "code",
   "execution_count": 2,
   "id": "7646e831",
   "metadata": {},
   "outputs": [
    {
     "name": "stdout",
     "output_type": "stream",
     "text": [
      "Downloading data from https://storage.googleapis.com/tensorflow/tf-keras-datasets/reuters.npz\n",
      "2113536/2110848 [==============================] - 129s 61us/step\n",
      "2121728/2110848 [==============================] - 129s 61us/step\n"
     ]
    }
   ],
   "source": [
    "(train_data, train_labels), (test_data, test_labels) = reuters.load_data(num_words=10000)"
   ]
  },
  {
   "cell_type": "code",
   "execution_count": 30,
   "id": "78e83171",
   "metadata": {},
   "outputs": [
    {
     "name": "stdout",
     "output_type": "stream",
     "text": [
      "(8982,) (8982,)\n"
     ]
    }
   ],
   "source": [
    "print(train_data.shape, train_labels.shape)\n",
    "# Manual one-hot encoding for labels\n",
    "def to_one_hot(labels, dimension=46):\n",
    "    results = np.zeros((len(labels), dimension))\n",
    "    for i, label in enumerate(labels):\n",
    "        results[i, label] = 1. \n",
    "    return results\n",
    "\n",
    "# Keras inbuilt function\n",
    "y_train, y_test = to_one_hot(train_labels), to_one_hot(test_labels)\n",
    "\n",
    "# Multi hot encode input data\n",
    "def vectorize_sequences(sequences, dimension=10000): \n",
    "    results = np.zeros((len(sequences), dimension))\n",
    "    for i, sequence in enumerate(sequences):\n",
    "        for j in sequence:\n",
    "            results[i, j] = 1.\n",
    "    return results\n",
    "x_train = vectorize_sequences(train_data)\n",
    "x_test = vectorize_sequences(test_data)"
   ]
  },
  {
   "cell_type": "code",
   "execution_count": 12,
   "id": "7dfa1f41",
   "metadata": {},
   "outputs": [
    {
     "data": {
      "text/plain": [
       "1.0"
      ]
     },
     "execution_count": 12,
     "metadata": {},
     "output_type": "execute_result"
    }
   ],
   "source": [
    "# Each article can only belong to one class\n",
    "max(np.sum(labels) for labels in y_train)"
   ]
  },
  {
   "cell_type": "code",
   "execution_count": 36,
   "id": "61dd97d0",
   "metadata": {},
   "outputs": [],
   "source": [
    "from tensorflow.keras import layers\n",
    "\n",
    "model = keras.Sequential([\n",
    "        layers.Dense(64, activation=\"relu\"),\n",
    "        layers.Dense(64, activation=\"relu\"),\n",
    "        layers.Dense(46, activation=\"softmax\")\n",
    "])"
   ]
  },
  {
   "cell_type": "code",
   "execution_count": 37,
   "id": "10bc56b6",
   "metadata": {},
   "outputs": [],
   "source": [
    "model.compile(optimizer=\"rmsprop\",\n",
    "              loss=\"categorical_crossentropy\",\n",
    "              metrics=[\"accuracy\"])"
   ]
  },
  {
   "cell_type": "code",
   "execution_count": 38,
   "id": "c96dcc69",
   "metadata": {},
   "outputs": [
    {
     "name": "stdout",
     "output_type": "stream",
     "text": [
      "(1000, 10000) (1000, 46)\n",
      "(5982, 10000) (5982, 46)\n"
     ]
    }
   ],
   "source": [
    "x_val = x_train[:1000]\n",
    "x_train = x_train[1000:]\n",
    "y_val = y_train[:1000]\n",
    "y_train = y_train[1000:]\n",
    "\n",
    "print(x_val.shape, y_val.shape)\n",
    "print(x_train.shape, y_train.shape)"
   ]
  },
  {
   "cell_type": "code",
   "execution_count": 39,
   "id": "95e3efd4",
   "metadata": {
    "collapsed": true
   },
   "outputs": [
    {
     "name": "stdout",
     "output_type": "stream",
     "text": [
      "Epoch 1/20\n",
      "12/12 [==============================] - 1s 29ms/step - loss: 2.8407 - accuracy: 0.4305 - val_loss: 2.0147 - val_accuracy: 0.6040\n",
      "Epoch 2/20\n",
      "12/12 [==============================] - 0s 18ms/step - loss: 1.5948 - accuracy: 0.6695 - val_loss: 1.4878 - val_accuracy: 0.6710\n",
      "Epoch 3/20\n",
      "12/12 [==============================] - 0s 18ms/step - loss: 1.1540 - accuracy: 0.7556 - val_loss: 1.2892 - val_accuracy: 0.7210\n",
      "Epoch 4/20\n",
      "12/12 [==============================] - 0s 18ms/step - loss: 0.9167 - accuracy: 0.8079 - val_loss: 1.1765 - val_accuracy: 0.7580\n",
      "Epoch 5/20\n",
      "12/12 [==============================] - 0s 18ms/step - loss: 0.7394 - accuracy: 0.8506 - val_loss: 1.1093 - val_accuracy: 0.7610\n",
      "Epoch 6/20\n",
      "12/12 [==============================] - 0s 19ms/step - loss: 0.6003 - accuracy: 0.8830 - val_loss: 1.0491 - val_accuracy: 0.7780\n",
      "Epoch 7/20\n",
      "12/12 [==============================] - 0s 18ms/step - loss: 0.4910 - accuracy: 0.9039 - val_loss: 1.0340 - val_accuracy: 0.7770\n",
      "Epoch 8/20\n",
      "12/12 [==============================] - 0s 19ms/step - loss: 0.3980 - accuracy: 0.9229 - val_loss: 1.0292 - val_accuracy: 0.7820\n",
      "Epoch 9/20\n",
      "12/12 [==============================] - 0s 18ms/step - loss: 0.3275 - accuracy: 0.9366 - val_loss: 1.0724 - val_accuracy: 0.7670\n",
      "Epoch 10/20\n",
      "12/12 [==============================] - 0s 17ms/step - loss: 0.2762 - accuracy: 0.9463 - val_loss: 0.9999 - val_accuracy: 0.7880\n",
      "Epoch 11/20\n",
      "12/12 [==============================] - 0s 17ms/step - loss: 0.2286 - accuracy: 0.9535 - val_loss: 1.0230 - val_accuracy: 0.7910\n",
      "Epoch 12/20\n",
      "12/12 [==============================] - 0s 18ms/step - loss: 0.1981 - accuracy: 0.9554 - val_loss: 1.0392 - val_accuracy: 0.7880\n",
      "Epoch 13/20\n",
      "12/12 [==============================] - 0s 20ms/step - loss: 0.1721 - accuracy: 0.9597 - val_loss: 1.0798 - val_accuracy: 0.7880\n",
      "Epoch 14/20\n",
      "12/12 [==============================] - 0s 20ms/step - loss: 0.1495 - accuracy: 0.9624 - val_loss: 1.0706 - val_accuracy: 0.7950\n",
      "Epoch 15/20\n",
      "12/12 [==============================] - 0s 18ms/step - loss: 0.1384 - accuracy: 0.9616 - val_loss: 1.0775 - val_accuracy: 0.7950\n",
      "Epoch 16/20\n",
      "12/12 [==============================] - 0s 18ms/step - loss: 0.1258 - accuracy: 0.9654 - val_loss: 1.1059 - val_accuracy: 0.7920\n",
      "Epoch 17/20\n",
      "12/12 [==============================] - 0s 18ms/step - loss: 0.1151 - accuracy: 0.9654 - val_loss: 1.1707 - val_accuracy: 0.7840\n",
      "Epoch 18/20\n",
      "12/12 [==============================] - 0s 19ms/step - loss: 0.1088 - accuracy: 0.9662 - val_loss: 1.1535 - val_accuracy: 0.7950\n",
      "Epoch 19/20\n",
      "12/12 [==============================] - 0s 17ms/step - loss: 0.1017 - accuracy: 0.9652 - val_loss: 1.2040 - val_accuracy: 0.7870\n",
      "Epoch 20/20\n",
      "12/12 [==============================] - 0s 17ms/step - loss: 0.0947 - accuracy: 0.9672 - val_loss: 1.3033 - val_accuracy: 0.7800\n"
     ]
    }
   ],
   "source": [
    "history = model.fit(x_train,\n",
    "                    y_train,\n",
    "                    epochs=20,\n",
    "                    batch_size=512,\n",
    "                    validation_data=(x_val, y_val))"
   ]
  },
  {
   "cell_type": "code",
   "execution_count": 40,
   "id": "bb27c090",
   "metadata": {},
   "outputs": [
    {
     "data": {
      "image/png": "[encoded data removed]",
      "text/plain": [
       "<Figure size 432x288 with 1 Axes>"
      ]
     },
     "metadata": {
      "needs_background": "light"
     },
     "output_type": "display_data"
    },
    {
     "data": {
      "image/png": "[encoded data removed]",
      "text/plain": [
       "<Figure size 432x288 with 1 Axes>"
      ]
     },
     "metadata": {
      "needs_background": "light"
     },
     "output_type": "display_data"
    }
   ],
   "source": [
    "loss = history.history[\"loss\"]\n",
    "val_loss = history.history[\"val_loss\"]\n",
    "epochs = range(1, len(loss) + 1)\n",
    "plt.plot(epochs, loss, \"bo\", label=\"Training loss\")\n",
    "plt.plot(epochs, val_loss, \"b\", label=\"Validation loss\")\n",
    "plt.title(\"Training and validation loss\")\n",
    "plt.xlabel(\"Epochs\")\n",
    "plt.ylabel(\"Loss\")\n",
    "plt.legend()\n",
    "plt.show()\n",
    "\n",
    "plt.clf()\n",
    "acc = history.history[\"accuracy\"]\n",
    "val_acc = history.history[\"val_accuracy\"]\n",
    "plt.plot(epochs, acc, \"bo\", label=\"Training accuracy\")\n",
    "plt.plot(epochs, val_acc, \"b\", label=\"Validation accuracy\")\n",
    "plt.title(\"Training and validation accuracy\")\n",
    "plt.xlabel(\"Epochs\")\n",
    "plt.ylabel(\"Accuracy\")\n",
    "plt.legend()\n",
    "plt.show()"
   ]
  },
  {
   "cell_type": "code",
   "execution_count": 43,
   "id": "91c698ba",
   "metadata": {},
   "outputs": [
    {
     "name": "stdout",
     "output_type": "stream",
     "text": [
      "Epoch 1/8\n",
      "12/12 [==============================] - 1s 15ms/step - loss: 2.8510 - accuracy: 0.4500\n",
      "Epoch 2/8\n",
      "12/12 [==============================] - 0s 14ms/step - loss: 1.6064 - accuracy: 0.6615\n",
      "Epoch 3/8\n",
      "12/12 [==============================] - 0s 15ms/step - loss: 1.1630 - accuracy: 0.7531\n",
      "Epoch 4/8\n",
      "12/12 [==============================] - 0s 15ms/step - loss: 0.9207 - accuracy: 0.8012\n",
      "Epoch 5/8\n",
      "12/12 [==============================] - 0s 16ms/step - loss: 0.7429 - accuracy: 0.8429\n",
      "Epoch 6/8\n",
      "12/12 [==============================] - 0s 15ms/step - loss: 0.5982 - accuracy: 0.8755\n",
      "Epoch 7/8\n",
      "12/12 [==============================] - 0s 15ms/step - loss: 0.4802 - accuracy: 0.9027\n",
      "Epoch 8/8\n",
      "12/12 [==============================] - 0s 14ms/step - loss: 0.3920 - accuracy: 0.9206\n",
      "71/71 [==============================] - 0s 2ms/step - loss: 1.0329 - accuracy: 0.7685\n"
     ]
    }
   ],
   "source": [
    "# Model seems to overfit after 8 epochs, let's train a new one\n",
    "model = keras.Sequential([\n",
    "    layers.Dense(64, activation=\"relu\"),\n",
    "    layers.Dense(64, activation=\"relu\"),\n",
    "    layers.Dense(46, activation=\"softmax\")\n",
    "])\n",
    "model.compile(optimizer=\"rmsprop\",\n",
    "              loss=\"categorical_crossentropy\",\n",
    "              metrics=[\"accuracy\"])\n",
    "model.fit(x_train,\n",
    "          y_train,\n",
    "          epochs=8,\n",
    "          batch_size=512)\n",
    "results = model.evaluate(x_test, y_test)"
   ]
  },
  {
   "cell_type": "code",
   "execution_count": 44,
   "id": "aae6c9c9",
   "metadata": {},
   "outputs": [
    {
     "data": {
      "text/plain": [
       "[1.03289794921875, 0.7684773206710815]"
      ]
     },
     "execution_count": 44,
     "metadata": {},
     "output_type": "execute_result"
    }
   ],
   "source": [
    "results"
   ]
  },
  {
   "cell_type": "code",
   "execution_count": 69,
   "id": "61324775",
   "metadata": {},
   "outputs": [
    {
     "name": "stdout",
     "output_type": "stream",
     "text": [
      "Epoch 1/20\n",
      "47/47 [==============================] - 1s 12ms/step - loss: 1.9398 - accuracy: 0.6057 - val_loss: 1.3946 - val_accuracy: 0.6840\n",
      "Epoch 2/20\n",
      "47/47 [==============================] - 0s 9ms/step - loss: 1.0629 - accuracy: 0.7663 - val_loss: 1.1366 - val_accuracy: 0.7410\n",
      "Epoch 3/20\n",
      "47/47 [==============================] - 0s 9ms/step - loss: 0.7314 - accuracy: 0.8358 - val_loss: 1.0522 - val_accuracy: 0.7700\n",
      "Epoch 4/20\n",
      "47/47 [==============================] - 0s 10ms/step - loss: 0.5066 - accuracy: 0.8937 - val_loss: 0.9950 - val_accuracy: 0.7840\n",
      "Epoch 5/20\n",
      "47/47 [==============================] - 0s 9ms/step - loss: 0.3524 - accuracy: 0.9291 - val_loss: 0.9650 - val_accuracy: 0.7920\n",
      "Epoch 6/20\n",
      "47/47 [==============================] - 0s 9ms/step - loss: 0.2550 - accuracy: 0.9470 - val_loss: 1.0168 - val_accuracy: 0.7990\n",
      "Epoch 7/20\n",
      "47/47 [==============================] - 0s 9ms/step - loss: 0.1989 - accuracy: 0.9560 - val_loss: 1.0355 - val_accuracy: 0.7920\n",
      "Epoch 8/20\n",
      "47/47 [==============================] - 0s 9ms/step - loss: 0.1631 - accuracy: 0.9595 - val_loss: 1.1589 - val_accuracy: 0.7830\n",
      "Epoch 9/20\n",
      "47/47 [==============================] - 0s 9ms/step - loss: 0.1409 - accuracy: 0.9636 - val_loss: 1.0786 - val_accuracy: 0.8030\n",
      "Epoch 10/20\n",
      "47/47 [==============================] - 0s 9ms/step - loss: 0.1237 - accuracy: 0.9646 - val_loss: 1.2389 - val_accuracy: 0.7800\n",
      "Epoch 11/20\n",
      "47/47 [==============================] - 0s 9ms/step - loss: 0.1186 - accuracy: 0.9649 - val_loss: 1.2491 - val_accuracy: 0.7860\n",
      "Epoch 12/20\n",
      "47/47 [==============================] - 0s 9ms/step - loss: 0.1107 - accuracy: 0.9646 - val_loss: 1.2969 - val_accuracy: 0.7790\n",
      "Epoch 13/20\n",
      "47/47 [==============================] - 0s 9ms/step - loss: 0.1067 - accuracy: 0.9641 - val_loss: 1.3015 - val_accuracy: 0.7910\n",
      "Epoch 14/20\n",
      "47/47 [==============================] - 0s 9ms/step - loss: 0.1010 - accuracy: 0.9676 - val_loss: 1.3351 - val_accuracy: 0.7840\n",
      "Epoch 15/20\n",
      "47/47 [==============================] - 0s 9ms/step - loss: 0.0979 - accuracy: 0.9656 - val_loss: 1.3972 - val_accuracy: 0.7760\n",
      "Epoch 16/20\n",
      "47/47 [==============================] - 0s 9ms/step - loss: 0.0951 - accuracy: 0.9656 - val_loss: 1.3610 - val_accuracy: 0.7870\n",
      "Epoch 17/20\n",
      "47/47 [==============================] - 0s 10ms/step - loss: 0.0922 - accuracy: 0.9657 - val_loss: 1.4496 - val_accuracy: 0.7830\n",
      "Epoch 18/20\n",
      "47/47 [==============================] - 0s 9ms/step - loss: 0.0911 - accuracy: 0.9656 - val_loss: 1.4481 - val_accuracy: 0.7770\n",
      "Epoch 19/20\n",
      "47/47 [==============================] - 0s 9ms/step - loss: 0.0883 - accuracy: 0.9686 - val_loss: 1.5056 - val_accuracy: 0.7740\n",
      "Epoch 20/20\n",
      "47/47 [==============================] - 0s 9ms/step - loss: 0.0878 - accuracy: 0.9662 - val_loss: 1.5233 - val_accuracy: 0.7770\n"
     ]
    }
   ],
   "source": [
    "# let's experiment with information bottleneck by using a 2D intermediate layer\n",
    "\n",
    "model = keras.Sequential([\n",
    "    layers.Dense(64, activation=\"relu\"),\n",
    "    layers.Dense(64, activation=\"relu\"),\n",
    "    layers.Dense(46, activation=\"softmax\")\n",
    "])\n",
    "model.compile(optimizer=\"rmsprop\",\n",
    "              loss=\"categorical_crossentropy\",\n",
    "              metrics=[\"accuracy\"])\n",
    "history = model.fit(x_train,\n",
    "          y_train,\n",
    "          epochs=20,\n",
    "          batch_size=128,\n",
    "          validation_data=(x_val, y_val)).history"
   ]
  },
  {
   "cell_type": "code",
   "execution_count": 70,
   "id": "f6b8f434",
   "metadata": {},
   "outputs": [
    {
     "data": {
      "image/png": "[encoded data removed]",
      "text/plain": [
       "<Figure size 432x288 with 1 Axes>"
      ]
     },
     "metadata": {
      "needs_background": "light"
     },
     "output_type": "display_data"
    },
    {
     "data": {
      "image/png": "[encoded data removed]",
      "text/plain": [
       "<Figure size 432x288 with 1 Axes>"
      ]
     },
     "metadata": {
      "needs_background": "light"
     },
     "output_type": "display_data"
    }
   ],
   "source": [
    "loss = history[\"loss\"]\n",
    "val_loss = history[\"val_loss\"]\n",
    "epochs = range(1, len(loss) + 1)\n",
    "plt.plot(epochs, loss, \"bo\", label=\"Training loss\")\n",
    "plt.plot(epochs, val_loss, \"b\", label=\"Validation loss\")\n",
    "plt.title(\"Training and validation loss\")\n",
    "plt.xlabel(\"Epochs\")\n",
    "plt.ylabel(\"Loss\")\n",
    "plt.legend()\n",
    "plt.show()\n",
    "\n",
    "plt.clf()\n",
    "acc = history[\"accuracy\"]\n",
    "val_acc = history[\"val_accuracy\"]\n",
    "plt.plot(epochs, acc, \"bo\", label=\"Training accuracy\")\n",
    "plt.plot(epochs, val_acc, \"b\", label=\"Validation accuracy\")\n",
    "plt.title(\"Training and validation accuracy\")\n",
    "plt.xlabel(\"Epochs\")\n",
    "plt.ylabel(\"Accuracy\")\n",
    "plt.legend()\n",
    "plt.show()"
   ]
  }
 ],
 "metadata": {
  "kernelspec": {
   "display_name": "Python 3 (ipykernel)",
   "language": "python",
   "name": "python3"
  },
  "language_info": {
   "codemirror_mode": {
    "name": "ipython",
    "version": 3
   },
   "file_extension": ".py",
   "mimetype": "text/x-python",
   "name": "python",
   "nbconvert_exporter": "python",
   "pygments_lexer": "ipython3",
   "version": "3.8.8"
  }
 },
 "nbformat": 4,
 "nbformat_minor": 5
}
